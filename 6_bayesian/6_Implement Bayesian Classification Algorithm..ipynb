{
 "cells": [
  {
   "cell_type": "markdown",
   "id": "58dea932",
   "metadata": {},
   "source": [
    "# LAB 6 : Naive Bayes Classifier\n",
    "\n",
    "## Introduction\n",
    "The Naive Bayes classifier is a probabilistic machine learning algorithm based on Bayes' theorem. It is a simple yet powerful algorithm commonly used for classification tasks. The \"naive\" assumption in Naive Bayes comes from the assumption of independence among the features, which means that each feature contributes independently to the probability of the class.\n",
    "\n",
    "## Bayes' Theorem\n",
    "Bayes' theorem is a fundamental concept in probability theory, which relates the conditional probability of an event given prior knowledge to the probability of that prior knowledge given the event. Mathematically, it can be expressed as:\n",
    "\n",
    "$$ P(A|B) = \\frac{P(B|A) \\cdot P(A)}{P(B)} $$\n",
    "\n",
    "Where:\n",
    "- \\(P(A|B)\\) is the conditional probability of event A given event B.\n",
    "- \\(P(B|A)\\) is the conditional probability of event B given event A.\n",
    "- \\(P(A)\\) and \\(P(B)\\) are the probabilities of events A and B, respectively.\n",
    "\n",
    "## Naive Bayes Algorithm\n",
    "The Naive Bayes classifier computes the probability of each class given the input features using Bayes' theorem. The class with the highest probability is then predicted as the output class. The formula for computing the probability of a class given the input features is:\n",
    "\n",
    "$$ P(y_i | x_1, x_2, ..., x_n) = \\frac{P(x_1 | y_i) \\cdot P(x_2 | y_i) \\cdot ... \\cdot P(x_n | y_i) \\cdot P(y_i)}{P(x_1) \\cdot P(x_2) \\cdot ... \\cdot P(x_n)} $$\n",
    "\n",
    "Where:\n",
    "- \\(P(y_i | x_1, x_2, ..., x_n)\\) is the probability of class \\(y_i\\) given the input features \\(x_1, x_2, ..., x_n\\).\n",
    "- \\(P(x_j | y_i)\\) is the conditional probability of feature \\(x_j\\) given class \\(y_i\\).\n",
    "- \\(P(y_i)\\) is the prior probability of class \\(y_i\\).\n",
    "- \\(P(x_1), P(x_2), ..., P(x_n)\\) are the probabilities of the input features.\n",
    "\n",
    "## Conclusion\n",
    "The Naive Bayes classifier is a simple and efficient algorithm that performs well in many real-world applications, especially when the naive assumption of feature independence holds true. However, it may not perform well when features are highly correlated or when there is insufficient data.\n"
   ]
  },
  {
   "cell_type": "markdown",
   "id": "29ccdb11",
   "metadata": {},
   "source": [
    "# 1. import libraries and load dataset"
   ]
  },
  {
   "cell_type": "code",
   "execution_count": 1,
   "id": "8cdfb7e8",
   "metadata": {},
   "outputs": [],
   "source": [
    "import pandas as pd"
   ]
  },
  {
   "cell_type": "code",
   "execution_count": 2,
   "id": "1e7b3d87",
   "metadata": {},
   "outputs": [],
   "source": [
    "# Load the dataset\n",
    "df = pd.read_csv('computer_data.csv')"
   ]
  },
  {
   "cell_type": "code",
   "execution_count": 3,
   "id": "004ffd02",
   "metadata": {},
   "outputs": [],
   "source": [
    "# Function to train the Naive Bayes classifier\n",
    "def train_naive_bayes(df):\n",
    "    # Calculate class probabilities\n",
    "    class_probs = df['buys_computer'].value_counts(normalize=True).to_dict()\n",
    "    \n",
    "    # Calculate conditional probabilities for each feature\n",
    "    conditional_probs = {}\n",
    "    for col in df.columns[:-1]:  # Exclude the target variable\n",
    "        conditional_probs[col] = {}\n",
    "        for value in df[col].unique():\n",
    "            conditional_probs[col][value] = {}\n",
    "            for cls in df['buys_computer'].unique():\n",
    "                conditional_probs[col][value][cls] = df[df['buys_computer'] == cls][col].value_counts(normalize=True).get(value, 0)\n",
    "                \n",
    "    return class_probs, conditional_probs"
   ]
  },
  {
   "cell_type": "code",
   "execution_count": 4,
   "id": "0b1e5132",
   "metadata": {},
   "outputs": [],
   "source": [
    "# Function to predict the class for a query\n",
    "def predict(class_probs, conditional_probs, query):\n",
    "    max_prob = -1\n",
    "    pred_cls = None\n",
    "    \n",
    "    for cls, prob in class_probs.items():\n",
    "        curr_prob = prob\n",
    "        for col, value in query.items():\n",
    "            if value in conditional_probs[col]:\n",
    "                curr_prob *= conditional_probs[col][value][cls]\n",
    "            else:\n",
    "                curr_prob *= 0  # Laplace smoothing\n",
    "        if curr_prob > max_prob:\n",
    "            max_prob = curr_prob\n",
    "            pred_cls = cls\n",
    "            \n",
    "    return pred_cls"
   ]
  },
  {
   "cell_type": "markdown",
   "id": "bf967c70",
   "metadata": {},
   "source": [
    "# 2. Train"
   ]
  },
  {
   "cell_type": "code",
   "execution_count": 5,
   "id": "fc90a0c8",
   "metadata": {},
   "outputs": [],
   "source": [
    "# Train the Naive Bayes classifier\n",
    "class_probs, conditional_probs = train_naive_bayes(df)"
   ]
  },
  {
   "cell_type": "markdown",
   "id": "39ab6ea5",
   "metadata": {},
   "source": [
    "# 3. Get input from user"
   ]
  },
  {
   "cell_type": "code",
   "execution_count": 6,
   "id": "3f36f94e",
   "metadata": {},
   "outputs": [
    {
     "name": "stdout",
     "output_type": "stream",
     "text": [
      "Enter value for age: 34\n",
      "Enter value for income: high\n",
      "Enter value for student: yes\n",
      "Enter value for credit_rating: fair\n"
     ]
    }
   ],
   "source": [
    "# Get input from the user\n",
    "query = {}\n",
    "for col in df.columns[:-1]:  # Exclude the target variable\n",
    "    query[col] = input(f'Enter value for {col}: ')"
   ]
  },
  {
   "cell_type": "markdown",
   "id": "1b53411b",
   "metadata": {},
   "source": [
    "# 4. Predict"
   ]
  },
  {
   "cell_type": "code",
   "execution_count": 7,
   "id": "b0aaabc5",
   "metadata": {},
   "outputs": [
    {
     "name": "stdout",
     "output_type": "stream",
     "text": [
      "Predicted class level ==> Buys_Computer : yes\n"
     ]
    }
   ],
   "source": [
    "# Predict the class for the query\n",
    "prediction = predict(class_probs, conditional_probs, query)\n",
    "print('Predicted class level ==> Buys_Computer :', prediction)"
   ]
  }
 ],
 "metadata": {
  "kernelspec": {
   "display_name": "Python 3 (ipykernel)",
   "language": "python",
   "name": "python3"
  },
  "language_info": {
   "codemirror_mode": {
    "name": "ipython",
    "version": 3
   },
   "file_extension": ".py",
   "mimetype": "text/x-python",
   "name": "python",
   "nbconvert_exporter": "python",
   "pygments_lexer": "ipython3",
   "version": "3.9.6"
  }
 },
 "nbformat": 4,
 "nbformat_minor": 5
}
