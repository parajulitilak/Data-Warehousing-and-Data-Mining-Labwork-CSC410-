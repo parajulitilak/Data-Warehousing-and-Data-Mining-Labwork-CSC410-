{
 "cells": [
  {
   "cell_type": "markdown",
   "id": "9f0354e3",
   "metadata": {},
   "source": [
    "# LAB 3 : Apriori Algorithm\n",
    "\n",
    "### Definition:\n",
    "\n",
    "The Apriori algorithm is a popular algorithm used for frequent itemset mining and association rule learning in transactional databases. It identifies frequent individual items in the database and extends them to larger itemsets, generating rules to discover relationships between items.\n",
    "\n",
    "### Frequent Itemset:\n",
    "\n",
    "A frequent itemset refers to a set of items that appear together frequently in a database. The support of an itemset is the proportion of transactions in the database in which the itemset appears. A frequent itemset is one whose support is above a predefined threshold.\n",
    "\n",
    "### Association Rule:\n",
    "\n",
    "An association rule is a relationship between two sets of items in a transactional database. It consists of an antecedent (the items on the left-hand side of the rule) and a consequent (the items on the right-hand side of the rule). The strength of an association rule is measured by metrics such as support, confidence, and lift.\n",
    "\n",
    "### Support:\n",
    "\n",
    "Support is a measure of how frequently an itemset appears in the database. It is calculated as the proportion of transactions containing the itemset.\n",
    "\n",
    "$$ \\text{Support}(X) = \\frac{\\text{Transactions containing } X}{\\text{Total transactions}} \\$$\n",
    "\n",
    "### Confidence:\n",
    "\n",
    "Confidence is a measure of the reliability of an association rule. It indicates the likelihood that the consequent will occur given that the antecedent has occurred.\n",
    "\n",
    "$$ \\text{Confidence}(X \\Rightarrow Y) = \\frac{\\text{Support}(X \\cup Y)}{\\text{Support}(X)} \\$$\n",
    "\n",
    "### Lift:\n",
    "\n",
    "Lift measures the ratio of the observed support to the expected support of the consequent given the antecedent. It indicates whether the presence of the antecedent has any effect on the likelihood of the consequent.\n",
    "\n",
    "$$[ \\text{Lift}(X \\Rightarrow Y) = \\frac{\\text{Support}(X \\cup Y)}{\\text{Support}(X) \\times \\text{Support}(Y)} \\$$\n",
    "\n",
    "### Algorithm:\n",
    "\n",
    "1. **Generate Candidate Itemsets**: Start by identifying frequent individual items in the database (frequent 1-itemsets). Then, iteratively generate larger itemsets by joining pairs of frequent (k-1)-itemsets to form candidate k-itemsets.\n",
    "\n",
    "2. **Prune Candidate Itemsets**: Eliminate candidate itemsets that contain subsets that are infrequent, ensuring that only potentially frequent itemsets are retained.\n",
    "\n",
    "3. **Calculate Support**: Scan the database to count the occurrences of each candidate itemset and calculate their support.\n",
    "\n",
    "4. **Generate Association Rules**: For each frequent itemset, generate association rules by partitioning the itemset into antecedent-consequent pairs and calculate their confidence.\n",
    "\n",
    "5. **Select High Confidence Rules**: Filter the association rules based on a minimum confidence threshold to retain only strong rules.\n",
    "\n",
    "### Important Concepts:\n",
    "\n",
    "- **Minimum Support Threshold**: The minimum threshold used to determine whether an itemset is considered frequent.\n",
    "\n",
    "- **Candidate Generation**: The process of generating larger itemsets from smaller ones by joining pairs of frequent itemsets.\n",
    "\n",
    "- **Pruning**: The process of eliminating candidate itemsets that contain subsets that are not frequent, reducing the search space.\n",
    "\n",
    "- **Association Rule Evaluation Metrics**: Metrics such as support, confidence, and lift are used to evaluate the strength of association rules and identify meaningful relationships between items.\n",
    "\n",
    "- **Apriori Property**: The Apriori property states that if an itemset is infrequent, all its supersets are also infrequent. This property is used for efficient candidate generation and pruning.\n"
   ]
  },
  {
   "cell_type": "markdown",
   "id": "07e59eec",
   "metadata": {},
   "source": [
    "# Import Necessary Libraries:\n",
    "\n",
    "    pandas for data manipulation\n",
    "    apyori for the Apriori algorithm"
   ]
  },
  {
   "cell_type": "code",
   "execution_count": 1,
   "id": "d3826588",
   "metadata": {},
   "outputs": [],
   "source": [
    "import pandas as pd\n",
    "from apyori import apriori"
   ]
  },
  {
   "cell_type": "markdown",
   "id": "4d7d0d80",
   "metadata": {},
   "source": [
    "# 1. Load the Dataset:\n",
    "\n",
    "Load the dataset from the CSV file."
   ]
  },
  {
   "cell_type": "code",
   "execution_count": 2,
   "id": "7aa764ba",
   "metadata": {},
   "outputs": [],
   "source": [
    "data = pd.read_csv('my_data.csv')"
   ]
  },
  {
   "cell_type": "markdown",
   "id": "f3c6d619",
   "metadata": {},
   "source": [
    "# 2. Preprocess the Data:\n",
    "\n",
    "Split the items in each transaction into a list."
   ]
  },
  {
   "cell_type": "code",
   "execution_count": 3,
   "id": "ee34de63",
   "metadata": {},
   "outputs": [],
   "source": [
    "trx = [row['Items'].split(', ') for _, row in data.iterrows()]"
   ]
  },
  {
   "cell_type": "markdown",
   "id": "ecec0227",
   "metadata": {},
   "source": [
    "# 3: Ask User for Minimum Support, Confidence, and Lift"
   ]
  },
  {
   "cell_type": "code",
   "execution_count": 4,
   "id": "d70b50ed",
   "metadata": {},
   "outputs": [
    {
     "name": "stdout",
     "output_type": "stream",
     "text": [
      "Enter the minimum support (between 0 and 1): 0.2\n",
      "Enter the minimum confidence (between 0 and 1): 0.7\n",
      "Enter the minimum lift: 1\n"
     ]
    }
   ],
   "source": [
    "min_support = float(input(\"Enter the minimum support (between 0 and 1): \"))\n",
    "min_confidence = float(input(\"Enter the minimum confidence (between 0 and 1): \"))\n",
    "min_lift = float(input(\"Enter the minimum lift: \"))\n"
   ]
  },
  {
   "cell_type": "markdown",
   "id": "106700c2",
   "metadata": {},
   "source": [
    "# 4.Apply Apriori Algorithm:\n",
    "\n",
    "Use the Apriori algorithm to find frequent itemsets with specified minimum support."
   ]
  },
  {
   "cell_type": "code",
   "execution_count": 5,
   "id": "60736ef8",
   "metadata": {},
   "outputs": [],
   "source": [
    "# association_rules = apriori(trx, min_support=0.2, min_confidence=0.7, min_lift=1)\n",
    "association_rules = apriori(trx, min_support=min_support, min_confidence=min_confidence, min_lift=min_lift)"
   ]
  },
  {
   "cell_type": "markdown",
   "id": "921b0067",
   "metadata": {},
   "source": [
    "# 5.Extract Association Rules:\n",
    "\n",
    "Extract association rules from the frequent itemsets with specified minimum confidence and lift."
   ]
  },
  {
   "cell_type": "code",
   "execution_count": 6,
   "id": "1fcdda6c",
   "metadata": {},
   "outputs": [],
   "source": [
    "association_results = list(association_rules)"
   ]
  },
  {
   "cell_type": "markdown",
   "id": "2fa6d868",
   "metadata": {},
   "source": [
    "# 6.Display Results:\n",
    "\n",
    "Create a DataFrame to display the association rules along with their support and confidence."
   ]
  },
  {
   "cell_type": "code",
   "execution_count": 7,
   "id": "afdfc00e",
   "metadata": {
    "scrolled": true
   },
   "outputs": [
    {
     "data": {
      "text/html": [
       "<div>\n",
       "<style scoped>\n",
       "    .dataframe tbody tr th:only-of-type {\n",
       "        vertical-align: middle;\n",
       "    }\n",
       "\n",
       "    .dataframe tbody tr th {\n",
       "        vertical-align: top;\n",
       "    }\n",
       "\n",
       "    .dataframe thead th {\n",
       "        text-align: right;\n",
       "    }\n",
       "</style>\n",
       "<table border=\"1\" class=\"dataframe\">\n",
       "  <thead>\n",
       "    <tr style=\"text-align: right;\">\n",
       "      <th></th>\n",
       "      <th>Rule</th>\n",
       "      <th>Support</th>\n",
       "      <th>Confidence</th>\n",
       "    </tr>\n",
       "  </thead>\n",
       "  <tbody>\n",
       "    <tr>\n",
       "      <th>0</th>\n",
       "      <td>['Beer'] -&gt; ['Chips']</td>\n",
       "      <td>30.0%</td>\n",
       "      <td>75.0%</td>\n",
       "    </tr>\n",
       "    <tr>\n",
       "      <th>1</th>\n",
       "      <td>['Chips'] -&gt; ['Beer']</td>\n",
       "      <td>30.0%</td>\n",
       "      <td>100.0%</td>\n",
       "    </tr>\n",
       "    <tr>\n",
       "      <th>2</th>\n",
       "      <td>['Soda'] -&gt; ['Beer']</td>\n",
       "      <td>20.0%</td>\n",
       "      <td>100.0%</td>\n",
       "    </tr>\n",
       "    <tr>\n",
       "      <th>3</th>\n",
       "      <td>['Eggs'] -&gt; ['Bread']</td>\n",
       "      <td>20.0%</td>\n",
       "      <td>100.0%</td>\n",
       "    </tr>\n",
       "    <tr>\n",
       "      <th>4</th>\n",
       "      <td>['Bread'] -&gt; ['Milk']</td>\n",
       "      <td>30.0%</td>\n",
       "      <td>75.0%</td>\n",
       "    </tr>\n",
       "    <tr>\n",
       "      <th>5</th>\n",
       "      <td>['Milk'] -&gt; ['Bread']</td>\n",
       "      <td>30.0%</td>\n",
       "      <td>75.0%</td>\n",
       "    </tr>\n",
       "    <tr>\n",
       "      <th>6</th>\n",
       "      <td>['Detergent'] -&gt; ['Diapers']</td>\n",
       "      <td>20.0%</td>\n",
       "      <td>100.0%</td>\n",
       "    </tr>\n",
       "  </tbody>\n",
       "</table>\n",
       "</div>"
      ],
      "text/plain": [
       "                           Rule Support Confidence\n",
       "0         ['Beer'] -> ['Chips']   30.0%      75.0%\n",
       "1         ['Chips'] -> ['Beer']   30.0%     100.0%\n",
       "2          ['Soda'] -> ['Beer']   20.0%     100.0%\n",
       "3         ['Eggs'] -> ['Bread']   20.0%     100.0%\n",
       "4         ['Bread'] -> ['Milk']   30.0%      75.0%\n",
       "5         ['Milk'] -> ['Bread']   30.0%      75.0%\n",
       "6  ['Detergent'] -> ['Diapers']   20.0%     100.0%"
      ]
     },
     "execution_count": 7,
     "metadata": {},
     "output_type": "execute_result"
    }
   ],
   "source": [
    "pd.set_option('max_colwidth', 1000)\n",
    "Result = pd.DataFrame(columns=['Rule', 'Support', 'Confidence'])\n",
    "for item in association_results:\n",
    "    pair = item[2]\n",
    "    for i in pair:\n",
    "        items = str([x for x in i[0]])\n",
    "        if i[3] != 1:\n",
    "            Result = pd.concat([Result, pd.DataFrame({\n",
    "                'Rule': [str([x for x in i[0]]) + \" -> \" + str([x for x in i[1]])],\n",
    "                'Support': [str(round(item[1]*100, 2)) + '%'],\n",
    "                'Confidence': [str(round(i[2] * 100, 2)) + '%']\n",
    "            })], ignore_index=True)\n",
    "\n",
    "Result"
   ]
  }
 ],
 "metadata": {
  "kernelspec": {
   "display_name": "Python 3 (ipykernel)",
   "language": "python",
   "name": "python3"
  },
  "language_info": {
   "codemirror_mode": {
    "name": "ipython",
    "version": 3
   },
   "file_extension": ".py",
   "mimetype": "text/x-python",
   "name": "python",
   "nbconvert_exporter": "python",
   "pygments_lexer": "ipython3",
   "version": "3.9.6"
  }
 },
 "nbformat": 4,
 "nbformat_minor": 5
}
