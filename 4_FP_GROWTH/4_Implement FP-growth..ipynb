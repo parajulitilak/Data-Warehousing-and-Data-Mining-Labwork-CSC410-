{
 "cells": [
  {
   "cell_type": "markdown",
   "id": "f59e944b",
   "metadata": {},
   "source": [
    "# LAB 4 : FP Growth Algorithm in Data Mining\n",
    "\n",
    "In Data Mining, finding frequent patterns in large databases is very important and has been studied on a large scale in the past few years. Unfortunately, this task is computationally expensive, especially when many patterns exist.\n",
    "\n",
    "The FP-Growth Algorithm proposed by Han in is an efficient and scalable method for mining the complete set of frequent patterns by pattern fragment growth, using an extended prefix-tree structure for storing compressed and crucial information about frequent patterns named frequent-pattern tree (FP-tree). In his study, Han proved that his method outperforms other popular methods for mining frequent patterns, e.g., the Apriori Algorithm and the TreeProjection. In some later works, it was proved that FP-Growth performs better than other methods, including Eclat and Relim. The popularity and efficiency of the FP-Growth Algorithm contribute to many studies that propose variations to improve its performance.\n",
    "\n",
    "## What is FP Growth Algorithm?\n",
    "\n",
    "The FP-Growth Algorithm is an alternative way to find frequent item sets without using candidate generations, thus improving performance. For so much, it uses a divide-and-conquer strategy. The core of this method is the usage of a special data structure named frequent-pattern tree (FP-tree), which retains the item set association information.\n",
    "\n",
    "This algorithm works as follows:\n",
    "\n",
    "1. First, it compresses the input database creating an FP-tree instance to represent frequent items.\n",
    "2. After this first step, it divides the compressed database into a set of conditional databases, each associated with one frequent pattern.\n",
    "3. Finally, each such database is mined separately.\n",
    "  \n",
    "Using this strategy, the FP-Growth reduces the search costs by recursively looking for short patterns and then concatenating them into the long frequent patterns.\n",
    "\n",
    "In large databases, holding the FP tree in the main memory is impossible. A strategy to cope with this problem is to partition the database into a set of smaller databases (called projected databases) and then construct an FP-tree from each of these smaller databases.\n",
    "\n",
    "### FP-Growth Algorithm\n",
    "\n",
    "**Input:** \n",
    "\n",
    "- Database \\( D \\) of transactions.\n",
    "- Minimum support threshold \\( \\text{min_sup} \\).\n",
    "\n",
    "**Output:**\n",
    "\n",
    "- Set of frequent itemsets.\n",
    "\n",
    "**Steps:**\n",
    "\n",
    "1. **Scan Database and Count Item Occurrences:**\n",
    "   - Scan the database to determine the frequency of each item.\n",
    "   - Filter out infrequent items that do not meet the minimum support threshold.\n",
    "   - Sort the frequent items in decreasing order of frequency.\n",
    "\n",
    "2. **Construct the FP-Tree:**\n",
    "   - Initialize an empty FP-Tree.\n",
    "   - For each transaction in the database:\n",
    "     - Sort the frequent items in the transaction according to their frequency.\n",
    "     - Add the sorted transaction to the FP-Tree while preserving the item order.\n",
    "     - Update the header table to link identical items in the FP-Tree.\n",
    "\n",
    "3. **Mine FP-Tree for Frequent Patterns:**\n",
    "   - For each frequent item in the header table (starting from the least frequent):\n",
    "     - Initialize an empty conditional pattern base.\n",
    "     - For each path in the FP-Tree that contains the current item:\n",
    "       - Extract the prefix path and its count from the FP-Tree.\n",
    "       - Construct the conditional pattern base by concatenating the prefix path with the current item.\n",
    "       - Recursively mine the conditional FP-Tree formed by the conditional pattern base.\n",
    "       - Combine the frequent patterns generated from the conditional FP-Tree with the current item to form new frequent patterns.\n",
    "\n",
    "4. **Return Frequent Patterns:**\n",
    "   - Return the set of frequent patterns generated from the FP-Tree mining process.\n",
    "\n",
    "## Advantages of FP Growth Algorithm\n",
    "\n",
    "Here are the following advantages of the FP growth algorithm:\n",
    "\n",
    "- This algorithm needs to scan the database twice when compared to Apriori, which scans the transactions for each iteration.\n",
    "- The pairing of items is not done in this algorithm, making it faster.\n",
    "- The database is stored in a compact version in memory.\n",
    "- It is efficient and scalable for mining both long and short frequent patterns.\n",
    "\n",
    "## Disadvantages of FP-Growth Algorithm\n",
    "\n",
    "This algorithm also has some disadvantages, such as:\n",
    "\n",
    "- FP Tree is more cumbersome and difficult to build than Apriori.\n",
    "- It may be expensive.\n",
    "- The algorithm may not fit in the shared memory when the database is large.\n",
    "\n",
    "## Difference between Apriori and FP Growth Algorithm\n",
    "| Feature                                                     | Apriori                                    | FP-Growth                                 |\n",
    "|:----------------------------------------------------------- |:------------------------------------------ |:----------------------------------------- |\n",
    "| Generation of Frequent Patterns                             | Uses itemset pairings (single, double, etc.) | Utilizes FP-Tree structure                |\n",
    "| Candidate Generation                                        | Extends frequent subsets one item at a time | Generates conditional FP-Tree for each item |\n",
    "| Database Scanning                                          | Requires multiple scans, time-consuming for large datasets | Requires only one scan, faster performance |\n",
    "| Memory Consumption                                         | Stores converted database in memory        | Saves set of conditional FP-Trees in memory |\n",
    "| Search Strategy                                            | Utilizes breadth-first search               | Employs depth-first search                |\n"
   ]
  },
  {
   "cell_type": "markdown",
   "id": "4c6eb53b",
   "metadata": {},
   "source": [
    "# IMPLEMENTATION"
   ]
  },
  {
   "cell_type": "markdown",
   "id": "a765b130",
   "metadata": {},
   "source": [
    "# 1.Install the required libraries if you haven't already:"
   ]
  },
  {
   "cell_type": "code",
   "execution_count": 1,
   "id": "1f24969b",
   "metadata": {},
   "outputs": [],
   "source": [
    "# !pip install mlxtend"
   ]
  },
  {
   "cell_type": "markdown",
   "id": "de390bda",
   "metadata": {},
   "source": [
    "# 2.Import the necessary libraries:"
   ]
  },
  {
   "cell_type": "code",
   "execution_count": 2,
   "id": "cf92a97c",
   "metadata": {},
   "outputs": [],
   "source": [
    "from mlxtend.preprocessing import TransactionEncoder\n",
    "from mlxtend.frequent_patterns import fpgrowth, association_rules\n",
    "import pandas as pd\n"
   ]
  },
  {
   "cell_type": "markdown",
   "id": "a11a6eb1",
   "metadata": {},
   "source": [
    "# 3.Define your dataset:"
   ]
  },
  {
   "cell_type": "code",
   "execution_count": 3,
   "id": "ff75eb7b",
   "metadata": {},
   "outputs": [],
   "source": [
    "dataset = [['I1', 'I2', 'I3'],\n",
    "           ['I2', 'I3', 'I4'],\n",
    "           ['I4', 'I5'],\n",
    "           ['I1', 'I2', 'I4'],\n",
    "           ['I1', 'I2', 'I3', 'I5'],\n",
    "           ['I1', 'I2', 'I3', 'I4']]\n"
   ]
  },
  {
   "cell_type": "markdown",
   "id": "0479d5fa",
   "metadata": {},
   "source": [
    "# 4.Convert the dataset to one-hot encoded format:"
   ]
  },
  {
   "cell_type": "code",
   "execution_count": 4,
   "id": "f9a2566a",
   "metadata": {},
   "outputs": [],
   "source": [
    "te = TransactionEncoder()\n",
    "te_ary = te.fit(dataset).transform(dataset)\n",
    "df = pd.DataFrame(te_ary, columns=te.columns_)\n"
   ]
  },
  {
   "cell_type": "markdown",
   "id": "76b4db1e",
   "metadata": {},
   "source": [
    "# 5.Perform frequent pattern mining using FP-growth algorithm:"
   ]
  },
  {
   "cell_type": "code",
   "execution_count": 5,
   "id": "888e05cd",
   "metadata": {},
   "outputs": [],
   "source": [
    "frequent_patterns = fpgrowth(df, min_support=0.5, use_colnames=True)\n"
   ]
  },
  {
   "cell_type": "markdown",
   "id": "22e4b854",
   "metadata": {},
   "source": [
    "# 6.Define functions to generate conditional pattern base and conditional FP-tree:"
   ]
  },
  {
   "cell_type": "code",
   "execution_count": 6,
   "id": "aa7701d9",
   "metadata": {},
   "outputs": [],
   "source": [
    "# Function to generate conditional pattern base\n",
    "def generate_conditional_pattern_base(itemset, dataset):\n",
    "    conditional_pattern_base = []\n",
    "    for transaction in dataset:\n",
    "        if set(itemset).issubset(set(transaction)):\n",
    "            conditional_pattern_base.append(transaction)\n",
    "    return conditional_pattern_base\n"
   ]
  },
  {
   "cell_type": "code",
   "execution_count": 7,
   "id": "8f4bda92",
   "metadata": {},
   "outputs": [],
   "source": [
    "# Function to generate conditional FP-tree\n",
    "def generate_conditional_fp_tree(conditional_pattern_base):\n",
    "    te = TransactionEncoder()\n",
    "    te_ary = te.fit(conditional_pattern_base).transform(conditional_pattern_base)\n",
    "    conditional_fp_tree = pd.DataFrame(te_ary, columns=te.columns_)\n",
    "    return conditional_fp_tree"
   ]
  },
  {
   "cell_type": "markdown",
   "id": "b14941bc",
   "metadata": {},
   "source": [
    "# 7.Define a function to display frequent patterns and generate associative rules:"
   ]
  },
  {
   "cell_type": "code",
   "execution_count": 8,
   "id": "eedfb61a",
   "metadata": {},
   "outputs": [],
   "source": [
    "# Function to display frequent patterns and generate associative rules\n",
    "def display_frequent_patterns_and_associative_rules(dataset, frequent_patterns):\n",
    "    table_data = []\n",
    "    for itemset in frequent_patterns['itemsets']:\n",
    "        itemset_str = ', '.join(itemset)\n",
    "        conditional_pattern_base = generate_conditional_pattern_base(itemset, dataset)\n",
    "        conditional_fp_tree = generate_conditional_fp_tree(conditional_pattern_base)\n",
    "        frequent_patterns_generated_str = frequent_patterns[frequent_patterns['itemsets'].apply(lambda x: set(x).issuperset(set(itemset)))]\n",
    "        frequent_patterns_generated_str = ', '.join([str(set(pattern)) for pattern in frequent_patterns_generated_str['itemsets']])\n",
    "        table_data.append([itemset_str, conditional_pattern_base, conditional_fp_tree, frequent_patterns_generated_str])\n",
    "\n",
    "    df = pd.DataFrame(table_data, columns=['Item', 'Conditional Pattern Base', 'Conditional FP-tree', 'Frequent Patterns Generated'])\n",
    "    display(df)\n",
    "\n",
    "    # Generate associative rules\n",
    "    rules = association_rules(frequent_patterns, metric=\"confidence\", min_threshold=0.6)\n",
    "    print(\"\\nAssociation Rules:\")\n",
    "    print(rules[['antecedents', 'consequents', 'support', 'confidence']])\n"
   ]
  },
  {
   "cell_type": "markdown",
   "id": "47b32e7f",
   "metadata": {},
   "source": [
    "# 8.Call the function to display frequent patterns and generate associative rules:"
   ]
  },
  {
   "cell_type": "code",
   "execution_count": 9,
   "id": "fb70cb6c",
   "metadata": {
    "scrolled": true
   },
   "outputs": [
    {
     "data": {
      "text/html": [
       "<div>\n",
       "<style scoped>\n",
       "    .dataframe tbody tr th:only-of-type {\n",
       "        vertical-align: middle;\n",
       "    }\n",
       "\n",
       "    .dataframe tbody tr th {\n",
       "        vertical-align: top;\n",
       "    }\n",
       "\n",
       "    .dataframe thead th {\n",
       "        text-align: right;\n",
       "    }\n",
       "</style>\n",
       "<table border=\"1\" class=\"dataframe\">\n",
       "  <thead>\n",
       "    <tr style=\"text-align: right;\">\n",
       "      <th></th>\n",
       "      <th>Item</th>\n",
       "      <th>Conditional Pattern Base</th>\n",
       "      <th>Conditional FP-tree</th>\n",
       "      <th>Frequent Patterns Generated</th>\n",
       "    </tr>\n",
       "  </thead>\n",
       "  <tbody>\n",
       "    <tr>\n",
       "      <th>0</th>\n",
       "      <td>I2</td>\n",
       "      <td>[[I1, I2, I3], [I2, I3, I4], [I1, I2, I4], [I1...</td>\n",
       "      <td>I1    I2     I3     I4     I5\n",
       "0   True  ...</td>\n",
       "      <td>{'I2'}, {'I2', 'I3'}, {'I2', 'I1'}, {'I2', 'I1...</td>\n",
       "    </tr>\n",
       "    <tr>\n",
       "      <th>1</th>\n",
       "      <td>I3</td>\n",
       "      <td>[[I1, I2, I3], [I2, I3, I4], [I1, I2, I3, I5],...</td>\n",
       "      <td>I1    I2    I3     I4     I5\n",
       "0   True  T...</td>\n",
       "      <td>{'I3'}, {'I2', 'I3'}, {'I1', 'I3'}, {'I2', 'I1...</td>\n",
       "    </tr>\n",
       "    <tr>\n",
       "      <th>2</th>\n",
       "      <td>I1</td>\n",
       "      <td>[[I1, I2, I3], [I1, I2, I4], [I1, I2, I3, I5],...</td>\n",
       "      <td>I1    I2     I3     I4     I5\n",
       "0  True  Tr...</td>\n",
       "      <td>{'I1'}, {'I2', 'I1'}, {'I1', 'I3'}, {'I2', 'I1...</td>\n",
       "    </tr>\n",
       "    <tr>\n",
       "      <th>3</th>\n",
       "      <td>I4</td>\n",
       "      <td>[[I2, I3, I4], [I4, I5], [I1, I2, I4], [I1, I2...</td>\n",
       "      <td>I1     I2     I3    I4     I5\n",
       "0  False  ...</td>\n",
       "      <td>{'I4'}, {'I2', 'I4'}</td>\n",
       "    </tr>\n",
       "    <tr>\n",
       "      <th>4</th>\n",
       "      <td>I2, I3</td>\n",
       "      <td>[[I1, I2, I3], [I2, I3, I4], [I1, I2, I3, I5],...</td>\n",
       "      <td>I1    I2    I3     I4     I5\n",
       "0   True  T...</td>\n",
       "      <td>{'I2', 'I3'}, {'I2', 'I1', 'I3'}</td>\n",
       "    </tr>\n",
       "    <tr>\n",
       "      <th>5</th>\n",
       "      <td>I2, I1</td>\n",
       "      <td>[[I1, I2, I3], [I1, I2, I4], [I1, I2, I3, I5],...</td>\n",
       "      <td>I1    I2     I3     I4     I5\n",
       "0  True  Tr...</td>\n",
       "      <td>{'I2', 'I1'}, {'I2', 'I1', 'I3'}</td>\n",
       "    </tr>\n",
       "    <tr>\n",
       "      <th>6</th>\n",
       "      <td>I1, I3</td>\n",
       "      <td>[[I1, I2, I3], [I1, I2, I3, I5], [I1, I2, I3, ...</td>\n",
       "      <td>I1    I2    I3     I4     I5\n",
       "0  True  Tru...</td>\n",
       "      <td>{'I1', 'I3'}, {'I2', 'I1', 'I3'}</td>\n",
       "    </tr>\n",
       "    <tr>\n",
       "      <th>7</th>\n",
       "      <td>I2, I1, I3</td>\n",
       "      <td>[[I1, I2, I3], [I1, I2, I3, I5], [I1, I2, I3, ...</td>\n",
       "      <td>I1    I2    I3     I4     I5\n",
       "0  True  Tru...</td>\n",
       "      <td>{'I2', 'I1', 'I3'}</td>\n",
       "    </tr>\n",
       "    <tr>\n",
       "      <th>8</th>\n",
       "      <td>I2, I4</td>\n",
       "      <td>[[I2, I3, I4], [I1, I2, I4], [I1, I2, I3, I4]]</td>\n",
       "      <td>I1    I2     I3    I4\n",
       "0  False  True   T...</td>\n",
       "      <td>{'I2', 'I4'}</td>\n",
       "    </tr>\n",
       "  </tbody>\n",
       "</table>\n",
       "</div>"
      ],
      "text/plain": [
       "         Item                           Conditional Pattern Base  \\\n",
       "0          I2  [[I1, I2, I3], [I2, I3, I4], [I1, I2, I4], [I1...   \n",
       "1          I3  [[I1, I2, I3], [I2, I3, I4], [I1, I2, I3, I5],...   \n",
       "2          I1  [[I1, I2, I3], [I1, I2, I4], [I1, I2, I3, I5],...   \n",
       "3          I4  [[I2, I3, I4], [I4, I5], [I1, I2, I4], [I1, I2...   \n",
       "4      I2, I3  [[I1, I2, I3], [I2, I3, I4], [I1, I2, I3, I5],...   \n",
       "5      I2, I1  [[I1, I2, I3], [I1, I2, I4], [I1, I2, I3, I5],...   \n",
       "6      I1, I3  [[I1, I2, I3], [I1, I2, I3, I5], [I1, I2, I3, ...   \n",
       "7  I2, I1, I3  [[I1, I2, I3], [I1, I2, I3, I5], [I1, I2, I3, ...   \n",
       "8      I2, I4     [[I2, I3, I4], [I1, I2, I4], [I1, I2, I3, I4]]   \n",
       "\n",
       "                                 Conditional FP-tree  \\\n",
       "0        I1    I2     I3     I4     I5\n",
       "0   True  ...   \n",
       "1        I1    I2    I3     I4     I5\n",
       "0   True  T...   \n",
       "2       I1    I2     I3     I4     I5\n",
       "0  True  Tr...   \n",
       "3        I1     I2     I3    I4     I5\n",
       "0  False  ...   \n",
       "4        I1    I2    I3     I4     I5\n",
       "0   True  T...   \n",
       "5       I1    I2     I3     I4     I5\n",
       "0  True  Tr...   \n",
       "6       I1    I2    I3     I4     I5\n",
       "0  True  Tru...   \n",
       "7       I1    I2    I3     I4     I5\n",
       "0  True  Tru...   \n",
       "8        I1    I2     I3    I4\n",
       "0  False  True   T...   \n",
       "\n",
       "                         Frequent Patterns Generated  \n",
       "0  {'I2'}, {'I2', 'I3'}, {'I2', 'I1'}, {'I2', 'I1...  \n",
       "1  {'I3'}, {'I2', 'I3'}, {'I1', 'I3'}, {'I2', 'I1...  \n",
       "2  {'I1'}, {'I2', 'I1'}, {'I1', 'I3'}, {'I2', 'I1...  \n",
       "3                               {'I4'}, {'I2', 'I4'}  \n",
       "4                   {'I2', 'I3'}, {'I2', 'I1', 'I3'}  \n",
       "5                   {'I2', 'I1'}, {'I2', 'I1', 'I3'}  \n",
       "6                   {'I1', 'I3'}, {'I2', 'I1', 'I3'}  \n",
       "7                                 {'I2', 'I1', 'I3'}  \n",
       "8                                       {'I2', 'I4'}  "
      ]
     },
     "metadata": {},
     "output_type": "display_data"
    },
    {
     "name": "stdout",
     "output_type": "stream",
     "text": [
      "\n",
      "Association Rules:\n",
      "   antecedents consequents   support  confidence\n",
      "0         (I2)        (I3)  0.666667        0.80\n",
      "1         (I3)        (I2)  0.666667        1.00\n",
      "2         (I2)        (I1)  0.666667        0.80\n",
      "3         (I1)        (I2)  0.666667        1.00\n",
      "4         (I1)        (I3)  0.500000        0.75\n",
      "5         (I3)        (I1)  0.500000        0.75\n",
      "6     (I2, I1)        (I3)  0.500000        0.75\n",
      "7     (I2, I3)        (I1)  0.500000        0.75\n",
      "8     (I1, I3)        (I2)  0.500000        1.00\n",
      "9         (I2)    (I1, I3)  0.500000        0.60\n",
      "10        (I1)    (I2, I3)  0.500000        0.75\n",
      "11        (I3)    (I2, I1)  0.500000        0.75\n",
      "12        (I2)        (I4)  0.500000        0.60\n",
      "13        (I4)        (I2)  0.500000        0.75\n"
     ]
    }
   ],
   "source": [
    "display_frequent_patterns_and_associative_rules(dataset, frequent_patterns)\n"
   ]
  },
  {
   "cell_type": "code",
   "execution_count": 10,
   "id": "e0037bec",
   "metadata": {},
   "outputs": [
    {
     "name": "stdout",
     "output_type": "stream",
     "text": [
      "\n",
      "Association Rules:\n",
      "   antecedents consequents   support  confidence\n",
      "0         (I2)        (I3)  0.666667        0.80\n",
      "1         (I3)        (I2)  0.666667        1.00\n",
      "2         (I2)        (I1)  0.666667        0.80\n",
      "3         (I1)        (I2)  0.666667        1.00\n",
      "4         (I1)        (I3)  0.500000        0.75\n",
      "5         (I3)        (I1)  0.500000        0.75\n",
      "6     (I2, I1)        (I3)  0.500000        0.75\n",
      "7     (I2, I3)        (I1)  0.500000        0.75\n",
      "8     (I1, I3)        (I2)  0.500000        1.00\n",
      "9         (I2)    (I1, I3)  0.500000        0.60\n",
      "10        (I1)    (I2, I3)  0.500000        0.75\n",
      "11        (I3)    (I2, I1)  0.500000        0.75\n",
      "12        (I2)        (I4)  0.500000        0.60\n",
      "13        (I4)        (I2)  0.500000        0.75\n"
     ]
    }
   ],
   "source": [
    "    # Generate associative rules\n",
    "    rules = association_rules(frequent_patterns, metric=\"confidence\", min_threshold=0.6)\n",
    "    print(\"\\nAssociation Rules:\")\n",
    "    print(rules[['antecedents', 'consequents', 'support', 'confidence']])"
   ]
  },
  {
   "cell_type": "code",
   "execution_count": null,
   "id": "f2d48200",
   "metadata": {},
   "outputs": [],
   "source": []
  }
 ],
 "metadata": {
  "kernelspec": {
   "display_name": "Python 3 (ipykernel)",
   "language": "python",
   "name": "python3"
  },
  "language_info": {
   "codemirror_mode": {
    "name": "ipython",
    "version": 3
   },
   "file_extension": ".py",
   "mimetype": "text/x-python",
   "name": "python",
   "nbconvert_exporter": "python",
   "pygments_lexer": "ipython3",
   "version": "3.9.6"
  }
 },
 "nbformat": 4,
 "nbformat_minor": 5
}
